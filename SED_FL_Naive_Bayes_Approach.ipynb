{
  "nbformat": 4,
  "nbformat_minor": 0,
  "metadata": {
    "colab": {
      "provenance": []
    },
    "kernelspec": {
      "name": "python3",
      "display_name": "Python 3"
    },
    "language_info": {
      "name": "python"
    }
  },
  "cells": [
    {
      "cell_type": "code",
      "execution_count": 1,
      "metadata": {
        "id": "Yc_nYdhC1xOb"
      },
      "outputs": [],
      "source": [
        "import pandas as pd\n",
        "import numpy as np\n",
        "from sklearn.feature_extraction.text import CountVectorizer, TfidfTransformer\n",
        "from sklearn.naive_bayes import MultinomialNB\n",
        "from sklearn.metrics import accuracy_score"
      ]
    },
    {
      "cell_type": "code",
      "source": [
        "data_path = \"/content/drive/MyDrive/Data/Thesis/Kaggle/filtered.csv\"\n",
        "\n",
        "df = pd.read_csv(data_path)"
      ],
      "metadata": {
        "id": "4XWMVKLg4S-S"
      },
      "execution_count": 2,
      "outputs": []
    },
    {
      "cell_type": "code",
      "source": [
        "np.random.seed(112)\n",
        "df_train, df_test = np.split(df.sample(frac=1, random_state=42), \n",
        "                                     [int(.8*len(df))])"
      ],
      "metadata": {
        "id": "NiGhgHkq4X9X"
      },
      "execution_count": 3,
      "outputs": []
    },
    {
      "cell_type": "code",
      "source": [
        "count_vectorizer = CountVectorizer()\n",
        "counts = count_vectorizer.fit_transform(df_train['Body'].values)"
      ],
      "metadata": {
        "id": "OvwAmqFu44zc"
      },
      "execution_count": 4,
      "outputs": []
    },
    {
      "cell_type": "code",
      "source": [
        "classifier = MultinomialNB()\n",
        "targets = df_train['Label'].values\n",
        "classifier.fit(counts, targets)"
      ],
      "metadata": {
        "colab": {
          "base_uri": "https://localhost:8080/"
        },
        "id": "ADztG9wt5d0S",
        "outputId": "094af70f-2f9d-43ca-b5ea-7c3f6577e8f5"
      },
      "execution_count": 5,
      "outputs": [
        {
          "output_type": "execute_result",
          "data": {
            "text/plain": [
              "MultinomialNB()"
            ]
          },
          "metadata": {},
          "execution_count": 5
        }
      ]
    },
    {
      "cell_type": "code",
      "source": [
        "test_counts = count_vectorizer.transform(df_test['Body'].values)\n",
        "predictions = classifier.predict(test_counts)\n",
        "\n",
        "accuracy_score(df_test['Label'].values, predictions)"
      ],
      "metadata": {
        "colab": {
          "base_uri": "https://localhost:8080/"
        },
        "id": "u1KSyYj68sB1",
        "outputId": "735c99a7-2510-4cc4-b7c1-8c4b963e7dc5"
      },
      "execution_count": 6,
      "outputs": [
        {
          "output_type": "execute_result",
          "data": {
            "text/plain": [
              "0.9904013961605584"
            ]
          },
          "metadata": {},
          "execution_count": 6
        }
      ]
    },
    {
      "cell_type": "code",
      "source": [
        "tfidf_vectorizer = TfidfTransformer().fit(counts)\n",
        "tfidf = tfidf_vectorizer.transform(counts)"
      ],
      "metadata": {
        "id": "jSeFP6kC9nsV"
      },
      "execution_count": 7,
      "outputs": []
    },
    {
      "cell_type": "code",
      "source": [
        "classifier = MultinomialNB()\n",
        "targets = df_train['Label'].values\n",
        "classifier.fit(counts, targets)"
      ],
      "metadata": {
        "colab": {
          "base_uri": "https://localhost:8080/"
        },
        "id": "SFM_W1g693qF",
        "outputId": "3828b2fc-25e1-4304-fc13-7d48e10814fe"
      },
      "execution_count": 8,
      "outputs": [
        {
          "output_type": "execute_result",
          "data": {
            "text/plain": [
              "MultinomialNB()"
            ]
          },
          "metadata": {},
          "execution_count": 8
        }
      ]
    },
    {
      "cell_type": "code",
      "source": [
        "test_tfidf = tfidf_vectorizer.transform(test_counts)\n",
        "predictions_tfidf = classifier.predict(test_tfidf)\n",
        "\n",
        "accuracy_score(df_test['Label'].values, predictions_tfidf)"
      ],
      "metadata": {
        "colab": {
          "base_uri": "https://localhost:8080/"
        },
        "id": "1ZR47dJT98kx",
        "outputId": "2470f1eb-6190-4719-af41-cff64ca554e5"
      },
      "execution_count": 9,
      "outputs": [
        {
          "output_type": "execute_result",
          "data": {
            "text/plain": [
              "0.9886561954624782"
            ]
          },
          "metadata": {},
          "execution_count": 9
        }
      ]
    }
  ]
}